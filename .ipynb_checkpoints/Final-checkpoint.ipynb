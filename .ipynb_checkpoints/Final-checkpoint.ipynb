{
 "cells": [
  {
   "cell_type": "code",
   "execution_count": 1,
   "id": "73aa95a5-5356-4ce9-bc10-701df73c39a8",
   "metadata": {},
   "outputs": [],
   "source": [
    "import numpy as np\n",
    "import tqdm\n",
    "import math"
   ]
  },
  {
   "cell_type": "code",
   "execution_count": 2,
   "id": "58d819e6-b3e0-42ca-8e9b-456f7c5f999a",
   "metadata": {},
   "outputs": [],
   "source": [
    "def matrix_pm_fast(B:np.ndarray,n:int, m:int):\n",
    "    \n",
    "    D = B.copy()\n",
    "    D = D[0]\n",
    "    \n",
    "    if n == 0:\n",
    "        return np.identity(B.shape[0])[0]\n",
    "    if n == 1:\n",
    "        return D\n",
    "    \n",
    "    for x in tqdm.tqdm(range(n-1)):\n",
    "        D = (D @ B) % m\n",
    "\n",
    "    return D"
   ]
  },
  {
   "cell_type": "code",
   "execution_count": 3,
   "id": "b7cadfc3-9e30-4186-96cc-341f0136e3ad",
   "metadata": {},
   "outputs": [],
   "source": [
    "def count_walks(n:int=1,MOD:int = 0):\n",
    "    \n",
    "    if (n < 1):\n",
    "        raise ValueError(\"Walk distance must be 1 or greater!\")\n",
    "            \n",
    "    states_p1 = []\n",
    "    for L in 'ABCD':\n",
    "        for R in 'ABCD':\n",
    "            states_p1.append(L+R)\n",
    "    C1 = [[x] for x in states_p1]\n",
    "    \n",
    "    C2 = []\n",
    "    for last in states_p1:\n",
    "        for new in states_p1:\n",
    "            LL_match = last[0] == new[0]\n",
    "            RR_match = last[1] == new[1]\n",
    "            LR_match = last[0] == new[1]\n",
    "            RL_match = last[1] == new[0]\n",
    "            state = (LL_match, RR_match, LR_match, RL_match)\n",
    "\n",
    "            X0 = (False, False, False, False)\n",
    "            X1 = (True, True, True, True)\n",
    "            X2 = (True, False, False, False)\n",
    "            X3 = (False, True, False, False)\n",
    "            X4 = (True, True, False, False)\n",
    "            M = ['AA','BB','CC','DD']\n",
    "            if state not in [X0, X1, X2, X3, X4]:\n",
    "                continue\n",
    "            if state == X1 and last == new:\n",
    "                continue\n",
    "            if state == X0 and (last not in M) and (new not in M):\n",
    "                continue\n",
    "            C2.append([last, new])\n",
    "    C3 = []\n",
    "    for pair in C2:\n",
    "        last = pair[1]\n",
    "        for new in states_p1:\n",
    "            if [last, new] in C2:\n",
    "                C3.append(pair + [new])\n",
    "    \n",
    "    C = C1+C2+C3\n",
    "    \n",
    "    if n == 1:\n",
    "        output = len(C1)\n",
    "        if MOD not in [0,1]:\n",
    "            return output%MOD\n",
    "        else:\n",
    "            return output\n",
    "    if n == 2:\n",
    "        output = len(C2)\n",
    "        if MOD not in [0,1]:\n",
    "            return output%MOD\n",
    "        else:\n",
    "            return output\n",
    "    if n == 3:\n",
    "        output = len(C3)\n",
    "        if MOD not in [0,1]:\n",
    "            return output%MOD\n",
    "        else:\n",
    "            return output\n",
    "    else:\n",
    "        A = np.zeros((len(C3)+1,(len(C3)+1)))\n",
    "        A[0][1:] = np.ones(len(C3))\n",
    "        \n",
    "        B = A.copy()\n",
    "        \n",
    "        for c0 in C3:\n",
    "            idx = C3.index(c0)+1\n",
    "            edges = []\n",
    "            for c1 in C1:\n",
    "                if ([c0[1],c0[2],c1[0]] in C3):\n",
    "                    if (c0 == [c0[1],c0[2],c1[0]]):\n",
    "                        continue\n",
    "                    if (c0[0][0]+c0[1][0]+c0[2][0] == c0[1][0]+c0[2][0]+c1[0][0]):\n",
    "                        continue\n",
    "                    if (c0[0][1]+c0[1][1]+c0[2][1] == c0[1][1]+c0[2][1]+c1[0][1]):\n",
    "                        continue\n",
    "                    edges.append([c0[1],c0[2],c1[0]])\n",
    "            \n",
    "            for edge in edges:\n",
    "                B[idx][C3.index(edge)+1] += 1\n",
    "    \n",
    "    if MOD in [0,1]:\n",
    "        B = np.linalg.matrix_power(B, n)\n",
    "        output = np.sum(B[0][1:])\n",
    "        return int(output%MOD)\n",
    "    \n",
    "    # print('USING MOD'\n",
    "    J = matrix_pm_fast(B,n-2,MOD)\n",
    "    output = np.sum(J)\n",
    "\n",
    "    return int(output%MOD)"
   ]
  },
  {
   "cell_type": "code",
   "execution_count": 6,
   "id": "af01f7aa-4dae-4ecf-8eec-c93e909b223a",
   "metadata": {},
   "outputs": [
    {
     "name": "stderr",
     "output_type": "stream",
     "text": [
      "  0%|▏                              | 71857/16777213 [00:06<24:08, 11530.76it/s]\n"
     ]
    },
    {
     "ename": "KeyboardInterrupt",
     "evalue": "",
     "output_type": "error",
     "traceback": [
      "\u001b[0;31m---------------------------------------------------------------------------\u001b[0m",
      "\u001b[0;31mKeyboardInterrupt\u001b[0m                         Traceback (most recent call last)",
      "Input \u001b[0;32mIn [6]\u001b[0m, in \u001b[0;36m<cell line: 1>\u001b[0;34m()\u001b[0m\n\u001b[0;32m----> 1\u001b[0m \u001b[43mcount_walks\u001b[49m\u001b[43m(\u001b[49m\u001b[38;5;241;43m2\u001b[39;49m\u001b[38;5;241;43m*\u001b[39;49m\u001b[38;5;241;43m*\u001b[39;49m\u001b[38;5;241;43m24\u001b[39;49m\u001b[43m,\u001b[49m\u001b[43m \u001b[49m\u001b[38;5;241;43m3141592653\u001b[39;49m\u001b[43m)\u001b[49m\n",
      "Input \u001b[0;32mIn [3]\u001b[0m, in \u001b[0;36mcount_walks\u001b[0;34m(n, MOD)\u001b[0m\n\u001b[1;32m     86\u001b[0m     \u001b[38;5;28;01mreturn\u001b[39;00m \u001b[38;5;28mint\u001b[39m(output\u001b[38;5;241m%\u001b[39mMOD)\n\u001b[1;32m     88\u001b[0m \u001b[38;5;66;03m# print('USING MOD'\u001b[39;00m\n\u001b[0;32m---> 89\u001b[0m J \u001b[38;5;241m=\u001b[39m \u001b[43mmatrix_pm_fast\u001b[49m\u001b[43m(\u001b[49m\u001b[43mB\u001b[49m\u001b[43m,\u001b[49m\u001b[43mn\u001b[49m\u001b[38;5;241;43m-\u001b[39;49m\u001b[38;5;241;43m2\u001b[39;49m\u001b[43m,\u001b[49m\u001b[43mMOD\u001b[49m\u001b[43m)\u001b[49m\n\u001b[1;32m     90\u001b[0m output \u001b[38;5;241m=\u001b[39m np\u001b[38;5;241m.\u001b[39msum(J)\n\u001b[1;32m     92\u001b[0m \u001b[38;5;28;01mreturn\u001b[39;00m \u001b[38;5;28mint\u001b[39m(output\u001b[38;5;241m%\u001b[39mMOD)\n",
      "Input \u001b[0;32mIn [2]\u001b[0m, in \u001b[0;36mmatrix_pm_fast\u001b[0;34m(B, n, m)\u001b[0m\n\u001b[1;32m      9\u001b[0m     \u001b[38;5;28;01mreturn\u001b[39;00m D\n\u001b[1;32m     11\u001b[0m \u001b[38;5;28;01mfor\u001b[39;00m x \u001b[38;5;129;01min\u001b[39;00m tqdm\u001b[38;5;241m.\u001b[39mtqdm(\u001b[38;5;28mrange\u001b[39m(n\u001b[38;5;241m-\u001b[39m\u001b[38;5;241m1\u001b[39m)):\n\u001b[0;32m---> 12\u001b[0m     D \u001b[38;5;241m=\u001b[39m (\u001b[43mD\u001b[49m\u001b[43m \u001b[49m\u001b[38;5;241;43m@\u001b[39;49m\u001b[43m \u001b[49m\u001b[43mB\u001b[49m) \u001b[38;5;241m%\u001b[39m m\n\u001b[1;32m     14\u001b[0m \u001b[38;5;28;01mreturn\u001b[39;00m D\n",
      "\u001b[0;31mKeyboardInterrupt\u001b[0m: "
     ]
    }
   ],
   "source": [
    "count_walks(2**24, 3141592653)"
   ]
  },
  {
   "cell_type": "code",
   "execution_count": null,
   "id": "a1f66650-2949-42d5-a0cc-ec16903dc888",
   "metadata": {},
   "outputs": [],
   "source": []
  }
 ],
 "metadata": {
  "kernelspec": {
   "display_name": "Python 3 (ipykernel)",
   "language": "python",
   "name": "python3"
  },
  "language_info": {
   "codemirror_mode": {
    "name": "ipython",
    "version": 3
   },
   "file_extension": ".py",
   "mimetype": "text/x-python",
   "name": "python",
   "nbconvert_exporter": "python",
   "pygments_lexer": "ipython3",
   "version": "3.9.12"
  }
 },
 "nbformat": 4,
 "nbformat_minor": 5
}
